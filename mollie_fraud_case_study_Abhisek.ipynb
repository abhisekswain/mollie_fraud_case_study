{
 "cells": [
  {
   "cell_type": "markdown",
   "id": "95b0d771",
   "metadata": {},
   "source": [
    "# Mollie payment fraud detection case"
   ]
  },
  {
   "cell_type": "markdown",
   "id": "6a42ddbb",
   "metadata": {},
   "source": [
    "# Business Case \n",
    "\n",
    "We are given a dataset consisting of customer payment transactions. The goal of the assignment is to build a fraud prediction model. There is one csv file that was provided.\n",
    "\n",
    "\n",
    "## Contents  \n",
    "\n",
    "This notebook contains the following sections:  \n",
    "\n",
    "1. Imports & function definitions  \n",
    "2. EDA  \n",
    "3. Feature engineering  \n",
    "4. Modeling  \n",
    "5. Results  \n"
   ]
  },
  {
   "cell_type": "markdown",
   "id": "d352094b",
   "metadata": {},
   "source": [
    "The table below show my interpretation of the data.  \n",
    "\n",
    "\n",
    "## Data Dictionary\n",
    "The dataset has fourteen features (columns) with the following definitions and data types:\n",
    "\n",
    "| Variable     | Data type    | Definition     |\n",
    "|------|-----|-----|\n",
    "| `transaction_id`    | int64     | a unique transaction identifier     |\n",
    "| `batch`    | int64     | representing batch of transaction     |\n",
    "| `chck_date`    | datetime     | assumed to be transaction date   |\n",
    "| `customer`    | string    | a unique customer identifier    |\n",
    "| `payment_type`    | string     | a unique payment_type identifier     |\n",
    "| `gender`    | string     | customer gender     |\n",
    "| `name`    | string     | customer name    |\n",
    "| `phone`    | string     | customer phone number     |\n",
    "| `cust_acc`    | string     | customer account number    |\n",
    "| `merchant`    | string     | a unique merchant identifer     |\n",
    "| `category`    | string     | purchase category     |\n",
    "| `amount`    | float64     | transaction amount     |\n",
    "| `fraud`    | int64     | target variable indicating fraud |    "
   ]
  },
  {
   "cell_type": "markdown",
   "id": "f05e43e7",
   "metadata": {},
   "source": [
    "## Imports & function definitions  "
   ]
  },
  {
   "cell_type": "markdown",
   "id": "8ea31d41",
   "metadata": {},
   "source": [
    "**Import libraries**"
   ]
  },
  {
   "cell_type": "code",
   "execution_count": 1,
   "id": "21ac7c36",
   "metadata": {},
   "outputs": [],
   "source": [
    "# General\n",
    "import pandas as pd\n",
    "import numpy as np\n",
    "import math\n",
    "import joblib\n",
    "import pickle\n",
    "import datetime\n",
    "import random\n",
    "\n",
    "#import sklearn\n",
    "import sklearn\n",
    "from sklearn import *\n",
    "from sklearn.preprocessing import LabelEncoder\n",
    "from sklearn.preprocessing import StandardScaler\n",
    "from sklearn.model_selection import GridSearchCV\n",
    "from sklearn.metrics import classification_report\n",
    "from sklearn.metrics import confusion_matrix\n",
    "from sklearn.metrics import accuracy_score\n",
    "from sklearn.metrics import precision_score\n",
    "from sklearn.metrics import recall_score\n",
    "from sklearn.metrics import f1_score, make_scorer\n",
    "from sklearn.preprocessing import StandardScaler\n",
    "from sklearn.linear_model import LogisticRegression\n",
    "from sklearn.ensemble import RandomForestClassifier\n",
    "from sklearn.ensemble import GradientBoostingClassifier\n",
    "\n",
    "# for class imbalance\n",
    "from imblearn.over_sampling import SMOTE\n",
    "\n",
    "%matplotlib inline\n",
    "\n",
    "import matplotlib\n",
    "import matplotlib.pyplot as plt\n",
    "import seaborn as sns\n",
    "\n",
    "sns.set_style('darkgrid', {'axes.facecolor': '0.9'})\n",
    "plt.rcParams['figure.figsize'] = [12, 8]\n",
    "\n",
    "import graphviz\n",
    "\n",
    "import warnings\n",
    "warnings.filterwarnings('ignore')"
   ]
  },
  {
   "cell_type": "markdown",
   "id": "fd33af78",
   "metadata": {},
   "source": [
    "**Function definitions**"
   ]
  },
  {
   "cell_type": "code",
   "execution_count": 2,
   "id": "4cff239b",
   "metadata": {},
   "outputs": [],
   "source": [
    "def show_values(axs, orient=\"v\", space=.01):\n",
    "    def _single(ax):\n",
    "        if orient == \"v\":\n",
    "            for p in ax.patches:\n",
    "                _x = p.get_x() + p.get_width() / 2\n",
    "                _y = p.get_y() + p.get_height() + (p.get_height()*0.01)\n",
    "                value = '{:.1f}'.format(p.get_height())\n",
    "                ax.text(_x, _y, value, ha=\"center\") \n",
    "        elif orient == \"h\":\n",
    "            for p in ax.patches:\n",
    "                _x = p.get_x() + p.get_width() + float(space)\n",
    "                _y = p.get_y() + p.get_height() - (p.get_height()*0.5)\n",
    "                value = '{:.1f}'.format(p.get_width())\n",
    "                ax.text(_x, _y, value, ha=\"left\")\n",
    "\n",
    "    if isinstance(axs, np.ndarray):\n",
    "        for idx, ax in np.ndenumerate(axs):\n",
    "            _single(ax)\n",
    "    else:\n",
    "        _single(axs)"
   ]
  },
  {
   "cell_type": "code",
   "execution_count": 3,
   "id": "84acb4d9",
   "metadata": {},
   "outputs": [],
   "source": [
    "# function to count missing values in dataframe\n",
    "def count_missings(df):\n",
    "    total = df.isnull().sum().sort_values(ascending = False)\n",
    "    percent = (df.isnull().sum() / df.isnull().count() * 100).sort_values(ascending = False)\n",
    "    table = pd.concat([total, percent], axis = 1, keys = [\"Total\", \"Percent\"])\n",
    "    table = table[table[\"Total\"] > 0]\n",
    "    return table"
   ]
  },
  {
   "cell_type": "code",
   "execution_count": 4,
   "id": "2e54cde8",
   "metadata": {},
   "outputs": [],
   "source": [
    "# function to classify datetime to weekday/weekend\n",
    "def is_weekend(transaction_date):\n",
    "    \"\"\"computes if date is weekend\n",
    "    Args:\n",
    "       datetime variable \n",
    "    Returns:\n",
    "       boolean: is_weekend \n",
    "    \"\"\"\n",
    "    # transform date into weekday (0 is Monday, 6 is Sunday)\n",
    "    weekday = transaction_date.weekday()\n",
    "    # binary value: 0 if weekday, 1 if weekend\n",
    "    is_weekend = weekday>=5\n",
    "    \n",
    "    return int(is_weekend)"
   ]
  },
  {
   "cell_type": "code",
   "execution_count": 5,
   "id": "b239b13e",
   "metadata": {},
   "outputs": [],
   "source": [
    "# function to classify datetime to day/night\n",
    "def is_night(transaction_date):\n",
    "    \"\"\"computes if time is at night\n",
    "       defines as between 00:00 and 06:00\n",
    "    Args:\n",
    "       datetime variable\n",
    "    Returns:\n",
    "       boolean: is_night\n",
    "    \"\"\"\n",
    "    # Get the hour of the transaction\n",
    "    tx_hour = transaction_date.hour\n",
    "    # Binary value: 1 if hour less than 6, and 0 otherwise\n",
    "    is_night = tx_hour<=6\n",
    "    \n",
    "    return int(is_night)"
   ]
  },
  {
   "cell_type": "code",
   "execution_count": 6,
   "id": "7f2e58ad",
   "metadata": {},
   "outputs": [],
   "source": [
    "def get_customer_rfm_features(customer_transactions, windows_size_in_days=[1,7,30]):\n",
    "    \"\"\"computes avg number of transactions\n",
    "       and avg transactions amount for given window\n",
    "    Args:\n",
    "       df: dataframe with customer transactions\n",
    "    Returns:\n",
    "       df: dataframe with computed avg and num transactions\n",
    "    \"\"\"\n",
    "    # let us first order transactions chronologically\n",
    "    customer_transactions=customer_transactions.sort_values('chck_date')\n",
    "    \n",
    "    # transaction date and time is set as the index, which will allow the use of the rolling function \n",
    "    customer_transactions.index=customer_transactions.chck_date\n",
    "    \n",
    "    # lloping through each each window size\n",
    "    for window_size in windows_size_in_days:\n",
    "        \n",
    "        # compute the sum of the transaction amounts and the number of transactions for the given window size\n",
    "        sum_amount_transaction_window=customer_transactions['amount'].rolling(str(window_size)+'d').sum()\n",
    "        num_transaction_window=customer_transactions['amount'].rolling(str(window_size)+'d').count()\n",
    "    \n",
    "        # compute the average transaction amount for the given window size\n",
    "        # num_transaction_window is always >0 since current transaction is always included\n",
    "        avg_amount_transaction_window=sum_amount_transaction_window/num_transaction_window\n",
    "    \n",
    "        # save feature values in list and add to df\n",
    "        customer_transactions['customer_nb_tx'+str(window_size)+'day_window']=list(num_transaction_window)\n",
    "        customer_transactions['customer_avg_amount_'+str(window_size)+'day_window']=list(avg_amount_transaction_window)\n",
    "    \n",
    "    # teindex according to transaction IDs\n",
    "    customer_transactions.index=customer_transactions.transaction_id\n",
    "        \n",
    "    # return the dataframe with the new features\n",
    "    return customer_transactions"
   ]
  },
  {
   "cell_type": "code",
   "execution_count": 7,
   "id": "1ef69e47",
   "metadata": {},
   "outputs": [],
   "source": [
    "def get_count_risk_rolling_window(terminal_transactions, delay_period=7, windows_size_in_days=[1,7, 30], feature=\"merchant\"):\n",
    "    \"\"\"computes a rick score for each merchant\n",
    "       based on historical fraudulent transactions\n",
    "    Args:\n",
    "       df: dataframe with customer transactions\n",
    "    Returns:\n",
    "       computed risk score\n",
    "    \"\"\"\n",
    "    terminal_transactions=terminal_transactions.sort_values('chck_date')\n",
    "    \n",
    "    terminal_transactions.index=terminal_transactions.chck_date\n",
    "    \n",
    "    num_fraud_delay=terminal_transactions['fraud'].rolling(str(delay_period)+'d', closed= \"left\").sum()\n",
    "    num_transaction_delay=terminal_transactions['fraud'].rolling(str(delay_period)+'d', closed= \"left\").count()\n",
    "    \n",
    "    for window_size in windows_size_in_days:\n",
    "    \n",
    "        num_fraud_delay_window=terminal_transactions['fraud'].rolling(str(delay_period+window_size)+'d', closed= \"left\").sum()\n",
    "        num_transaction_delay_window=terminal_transactions['fraud'].rolling(str(delay_period+window_size)+'d', closed= \"left\").count()\n",
    "    \n",
    "        num_fraud_window=num_fraud_delay_window-num_fraud_delay\n",
    "        num_transaction_window=num_transaction_delay_window-num_transaction_delay\n",
    "    \n",
    "        risk_window=num_fraud_window/num_transaction_window\n",
    "        \n",
    "        terminal_transactions[feature+'_num_transactions_'+str(window_size)+'day_window']=list(num_transaction_window)\n",
    "        terminal_transactions[feature+'_risk_'+str(window_size)+'day_window']=list(risk_window)\n",
    "        \n",
    "    terminal_transactions.index=terminal_transactions.transaction_id\n",
    "    \n",
    "    # replace NA values with 0 (all undefined risk scores where num_transaction_window is 0) \n",
    "    terminal_transactions.fillna(0,inplace=True)\n",
    "    \n",
    "    return terminal_transactions"
   ]
  },
  {
   "cell_type": "code",
   "execution_count": 8,
   "id": "9b5ab9aa",
   "metadata": {},
   "outputs": [],
   "source": [
    "def transform_cat_feats(df):\n",
    "    \"\"\"makes null columns into unknown and cat columns\n",
    "    are label encoded\n",
    "    Args:\n",
    "    df (pd.DataFrame): Dataframe with the transaction data.\n",
    "    Returns:\n",
    "    Dataframe with numerically encoded data for cat cols\n",
    "    \"\"\"\n",
    "\n",
    "    cat = [\n",
    "        \"payment_type\",\n",
    "        \"gender\",\n",
    "        \"country\",\n",
    "        \"category\",]\n",
    "        \n",
    "        #\"batch\"    ]\n",
    "\n",
    "    for feature in cat:\n",
    "        encoder = LabelEncoder()\n",
    "        df[feature] = encoder.fit_transform(df[feature])\n",
    "        feat_mapping = dict(zip(encoder.classes_, encoder.transform(encoder.classes_)))\n",
    "    \n",
    "\n",
    "    return df"
   ]
  },
  {
   "cell_type": "markdown",
   "id": "9a674cf3",
   "metadata": {},
   "source": [
    "## EDA"
   ]
  },
  {
   "cell_type": "code",
   "execution_count": 9,
   "id": "9e1e4376",
   "metadata": {},
   "outputs": [],
   "source": [
    "dtype={'Unnamed: 0':'int64', 'batch':'int64', 'customer': 'string', \\\n",
    "'payment_type':'string', 'gender':'string', 'name': 'string', 'phone' : 'string', 'cust_acc':'string', \\\n",
    "'merchant':'string', 'category':'string', 'amount':'float64', 'fraud':'int64'}\n",
    "parse_dates = ['chck_date']"
   ]
  },
  {
   "cell_type": "code",
   "execution_count": 10,
   "id": "2349bbd2",
   "metadata": {},
   "outputs": [
    {
     "data": {
      "text/html": [
       "<div>\n",
       "<style scoped>\n",
       "    .dataframe tbody tr th:only-of-type {\n",
       "        vertical-align: middle;\n",
       "    }\n",
       "\n",
       "    .dataframe tbody tr th {\n",
       "        vertical-align: top;\n",
       "    }\n",
       "\n",
       "    .dataframe thead th {\n",
       "        text-align: right;\n",
       "    }\n",
       "</style>\n",
       "<table border=\"1\" class=\"dataframe\">\n",
       "  <thead>\n",
       "    <tr style=\"text-align: right;\">\n",
       "      <th></th>\n",
       "      <th>transaction_id</th>\n",
       "      <th>batch</th>\n",
       "      <th>chck_date</th>\n",
       "      <th>customer</th>\n",
       "      <th>payment_type</th>\n",
       "      <th>gender</th>\n",
       "      <th>name</th>\n",
       "      <th>phone</th>\n",
       "      <th>cust_acc</th>\n",
       "      <th>merchant</th>\n",
       "      <th>category</th>\n",
       "      <th>amount</th>\n",
       "      <th>fraud</th>\n",
       "    </tr>\n",
       "  </thead>\n",
       "  <tbody>\n",
       "    <tr>\n",
       "      <th>0</th>\n",
       "      <td>470747</td>\n",
       "      <td>155</td>\n",
       "      <td>NaT</td>\n",
       "      <td>8448534585'</td>\n",
       "      <td>1'</td>\n",
       "      <td>M'</td>\n",
       "      <td>Mrs. Maria Gregory</td>\n",
       "      <td>(0115)4960290</td>\n",
       "      <td>GB03WYJA75657527300725</td>\n",
       "      <td>651065399'</td>\n",
       "      <td>transit'</td>\n",
       "      <td>20.11</td>\n",
       "      <td>0</td>\n",
       "    </tr>\n",
       "    <tr>\n",
       "      <th>1</th>\n",
       "      <td>412821</td>\n",
       "      <td>59</td>\n",
       "      <td>NaT</td>\n",
       "      <td>8682289866'</td>\n",
       "      <td>3'</td>\n",
       "      <td>M'</td>\n",
       "      <td>Mrs. Tina Sharpe</td>\n",
       "      <td>+33 1 17 64 48 43</td>\n",
       "      <td>NL78FPVF2407569857</td>\n",
       "      <td>651065399'</td>\n",
       "      <td>transit'</td>\n",
       "      <td>30.80</td>\n",
       "      <td>0</td>\n",
       "    </tr>\n",
       "    <tr>\n",
       "      <th>2</th>\n",
       "      <td>511083</td>\n",
       "      <td>86</td>\n",
       "      <td>NaT</td>\n",
       "      <td>8192432211'</td>\n",
       "      <td>4'</td>\n",
       "      <td>M'</td>\n",
       "      <td>Daan de Wit</td>\n",
       "      <td>02 82 29 37 03</td>\n",
       "      <td>NL58TXTE4754780700</td>\n",
       "      <td>8176927312'</td>\n",
       "      <td>transit'</td>\n",
       "      <td>22.63</td>\n",
       "      <td>0</td>\n",
       "    </tr>\n",
       "    <tr>\n",
       "      <th>3</th>\n",
       "      <td>252747</td>\n",
       "      <td>172</td>\n",
       "      <td>2019-03-10 02:22:00</td>\n",
       "      <td>8577606384'</td>\n",
       "      <td>2'</td>\n",
       "      <td>M'</td>\n",
       "      <td>Honoré du Gomez</td>\n",
       "      <td>(0161)4960724</td>\n",
       "      <td>FR8832716770788351826539286</td>\n",
       "      <td>8176927312'</td>\n",
       "      <td>transit'</td>\n",
       "      <td>13.93</td>\n",
       "      <td>0</td>\n",
       "    </tr>\n",
       "    <tr>\n",
       "      <th>4</th>\n",
       "      <td>452788</td>\n",
       "      <td>17</td>\n",
       "      <td>NaT</td>\n",
       "      <td>702254802'</td>\n",
       "      <td>4'</td>\n",
       "      <td>F'</td>\n",
       "      <td>Adrien-Benoît Clement</td>\n",
       "      <td>+31902 210334</td>\n",
       "      <td>&lt;NA&gt;</td>\n",
       "      <td>790152891'</td>\n",
       "      <td>personal_wellbeing'</td>\n",
       "      <td>18.07</td>\n",
       "      <td>0</td>\n",
       "    </tr>\n",
       "  </tbody>\n",
       "</table>\n",
       "</div>"
      ],
      "text/plain": [
       "   transaction_id  batch           chck_date     customer payment_type gender  \\\n",
       "0          470747    155                 NaT  8448534585'           1'     M'   \n",
       "1          412821     59                 NaT  8682289866'           3'     M'   \n",
       "2          511083     86                 NaT  8192432211'           4'     M'   \n",
       "3          252747    172 2019-03-10 02:22:00  8577606384'           2'     M'   \n",
       "4          452788     17                 NaT   702254802'           4'     F'   \n",
       "\n",
       "                    name              phone                     cust_acc  \\\n",
       "0     Mrs. Maria Gregory      (0115)4960290       GB03WYJA75657527300725   \n",
       "1       Mrs. Tina Sharpe  +33 1 17 64 48 43           NL78FPVF2407569857   \n",
       "2            Daan de Wit     02 82 29 37 03           NL58TXTE4754780700   \n",
       "3        Honoré du Gomez      (0161)4960724  FR8832716770788351826539286   \n",
       "4  Adrien-Benoît Clement      +31902 210334                         <NA>   \n",
       "\n",
       "      merchant             category  amount  fraud  \n",
       "0   651065399'             transit'   20.11      0  \n",
       "1   651065399'             transit'   30.80      0  \n",
       "2  8176927312'             transit'   22.63      0  \n",
       "3  8176927312'             transit'   13.93      0  \n",
       "4   790152891'  personal_wellbeing'   18.07      0  "
      ]
     },
     "execution_count": 10,
     "metadata": {},
     "output_type": "execute_result"
    }
   ],
   "source": [
    "# Let's read the csv into a pandas dataframe\n",
    "data = pd.read_csv(\"../data/mollie_fraud_dataset.csv\", sep=\";\", dtype=dtype, parse_dates=parse_dates)\n",
    "data.rename({'Unnamed: 0':'transaction_id'}, axis=1, inplace=True)\n",
    "data.head()"
   ]
  },
  {
   "cell_type": "markdown",
   "id": "edb56357",
   "metadata": {},
   "source": [
    "Let's check the dataframe for null values"
   ]
  },
  {
   "cell_type": "code",
   "execution_count": 11,
   "id": "ee2b1b82",
   "metadata": {},
   "outputs": [
    {
     "data": {
      "text/html": [
       "<div>\n",
       "<style scoped>\n",
       "    .dataframe tbody tr th:only-of-type {\n",
       "        vertical-align: middle;\n",
       "    }\n",
       "\n",
       "    .dataframe tbody tr th {\n",
       "        vertical-align: top;\n",
       "    }\n",
       "\n",
       "    .dataframe thead th {\n",
       "        text-align: right;\n",
       "    }\n",
       "</style>\n",
       "<table border=\"1\" class=\"dataframe\">\n",
       "  <thead>\n",
       "    <tr style=\"text-align: right;\">\n",
       "      <th></th>\n",
       "      <th>Total</th>\n",
       "      <th>Percent</th>\n",
       "    </tr>\n",
       "  </thead>\n",
       "  <tbody>\n",
       "    <tr>\n",
       "      <th>chck_date</th>\n",
       "      <td>114572</td>\n",
       "      <td>24.084219</td>\n",
       "    </tr>\n",
       "    <tr>\n",
       "      <th>cust_acc</th>\n",
       "      <td>66495</td>\n",
       "      <td>13.977936</td>\n",
       "    </tr>\n",
       "  </tbody>\n",
       "</table>\n",
       "</div>"
      ],
      "text/plain": [
       "            Total    Percent\n",
       "chck_date  114572  24.084219\n",
       "cust_acc    66495  13.977936"
      ]
     },
     "execution_count": 11,
     "metadata": {},
     "output_type": "execute_result"
    }
   ],
   "source": [
    "null_table = count_missings(data)\n",
    "null_table"
   ]
  },
  {
   "cell_type": "code",
   "execution_count": 12,
   "id": "7bfeacab",
   "metadata": {},
   "outputs": [
    {
     "data": {
      "text/plain": [
       "transaction_id             int64\n",
       "batch                      int64\n",
       "chck_date         datetime64[ns]\n",
       "customer                  string\n",
       "payment_type              string\n",
       "gender                    string\n",
       "name                      string\n",
       "phone                     string\n",
       "cust_acc                  string\n",
       "merchant                  string\n",
       "category                  string\n",
       "amount                   float64\n",
       "fraud                      int64\n",
       "dtype: object"
      ]
     },
     "execution_count": 12,
     "metadata": {},
     "output_type": "execute_result"
    }
   ],
   "source": [
    "data.dtypes"
   ]
  },
  {
   "cell_type": "markdown",
   "id": "4518ab6c",
   "metadata": {},
   "source": [
    "There are some extra characters in some of the columns which we need to remove. "
   ]
  },
  {
   "cell_type": "code",
   "execution_count": 13,
   "id": "96f6daf1",
   "metadata": {},
   "outputs": [],
   "source": [
    "strcol_list = ['customer', 'payment_type', 'gender', 'merchant', 'category']\n",
    "for col in strcol_list:\n",
    "    data[col] = data[col].apply(lambda x: x[:-1])"
   ]
  },
  {
   "cell_type": "code",
   "execution_count": 14,
   "id": "403bc565",
   "metadata": {},
   "outputs": [
    {
     "data": {
      "text/html": [
       "<div>\n",
       "<style scoped>\n",
       "    .dataframe tbody tr th:only-of-type {\n",
       "        vertical-align: middle;\n",
       "    }\n",
       "\n",
       "    .dataframe tbody tr th {\n",
       "        vertical-align: top;\n",
       "    }\n",
       "\n",
       "    .dataframe thead th {\n",
       "        text-align: right;\n",
       "    }\n",
       "</style>\n",
       "<table border=\"1\" class=\"dataframe\">\n",
       "  <thead>\n",
       "    <tr style=\"text-align: right;\">\n",
       "      <th></th>\n",
       "      <th>transaction_id</th>\n",
       "      <th>batch</th>\n",
       "      <th>chck_date</th>\n",
       "      <th>customer</th>\n",
       "      <th>payment_type</th>\n",
       "      <th>gender</th>\n",
       "      <th>name</th>\n",
       "      <th>phone</th>\n",
       "      <th>cust_acc</th>\n",
       "      <th>merchant</th>\n",
       "      <th>category</th>\n",
       "      <th>amount</th>\n",
       "      <th>fraud</th>\n",
       "    </tr>\n",
       "  </thead>\n",
       "  <tbody>\n",
       "    <tr>\n",
       "      <th>0</th>\n",
       "      <td>470747</td>\n",
       "      <td>155</td>\n",
       "      <td>NaT</td>\n",
       "      <td>8448534585</td>\n",
       "      <td>1</td>\n",
       "      <td>M</td>\n",
       "      <td>Mrs. Maria Gregory</td>\n",
       "      <td>(0115)4960290</td>\n",
       "      <td>GB03WYJA75657527300725</td>\n",
       "      <td>651065399</td>\n",
       "      <td>transit</td>\n",
       "      <td>20.11</td>\n",
       "      <td>0</td>\n",
       "    </tr>\n",
       "    <tr>\n",
       "      <th>1</th>\n",
       "      <td>412821</td>\n",
       "      <td>59</td>\n",
       "      <td>NaT</td>\n",
       "      <td>8682289866</td>\n",
       "      <td>3</td>\n",
       "      <td>M</td>\n",
       "      <td>Mrs. Tina Sharpe</td>\n",
       "      <td>+33 1 17 64 48 43</td>\n",
       "      <td>NL78FPVF2407569857</td>\n",
       "      <td>651065399</td>\n",
       "      <td>transit</td>\n",
       "      <td>30.80</td>\n",
       "      <td>0</td>\n",
       "    </tr>\n",
       "    <tr>\n",
       "      <th>2</th>\n",
       "      <td>511083</td>\n",
       "      <td>86</td>\n",
       "      <td>NaT</td>\n",
       "      <td>8192432211</td>\n",
       "      <td>4</td>\n",
       "      <td>M</td>\n",
       "      <td>Daan de Wit</td>\n",
       "      <td>02 82 29 37 03</td>\n",
       "      <td>NL58TXTE4754780700</td>\n",
       "      <td>8176927312</td>\n",
       "      <td>transit</td>\n",
       "      <td>22.63</td>\n",
       "      <td>0</td>\n",
       "    </tr>\n",
       "    <tr>\n",
       "      <th>3</th>\n",
       "      <td>252747</td>\n",
       "      <td>172</td>\n",
       "      <td>2019-03-10 02:22:00</td>\n",
       "      <td>8577606384</td>\n",
       "      <td>2</td>\n",
       "      <td>M</td>\n",
       "      <td>Honoré du Gomez</td>\n",
       "      <td>(0161)4960724</td>\n",
       "      <td>FR8832716770788351826539286</td>\n",
       "      <td>8176927312</td>\n",
       "      <td>transit</td>\n",
       "      <td>13.93</td>\n",
       "      <td>0</td>\n",
       "    </tr>\n",
       "    <tr>\n",
       "      <th>4</th>\n",
       "      <td>452788</td>\n",
       "      <td>17</td>\n",
       "      <td>NaT</td>\n",
       "      <td>702254802</td>\n",
       "      <td>4</td>\n",
       "      <td>F</td>\n",
       "      <td>Adrien-Benoît Clement</td>\n",
       "      <td>+31902 210334</td>\n",
       "      <td>&lt;NA&gt;</td>\n",
       "      <td>790152891</td>\n",
       "      <td>personal_wellbeing</td>\n",
       "      <td>18.07</td>\n",
       "      <td>0</td>\n",
       "    </tr>\n",
       "  </tbody>\n",
       "</table>\n",
       "</div>"
      ],
      "text/plain": [
       "   transaction_id  batch           chck_date    customer payment_type gender  \\\n",
       "0          470747    155                 NaT  8448534585            1      M   \n",
       "1          412821     59                 NaT  8682289866            3      M   \n",
       "2          511083     86                 NaT  8192432211            4      M   \n",
       "3          252747    172 2019-03-10 02:22:00  8577606384            2      M   \n",
       "4          452788     17                 NaT   702254802            4      F   \n",
       "\n",
       "                    name              phone                     cust_acc  \\\n",
       "0     Mrs. Maria Gregory      (0115)4960290       GB03WYJA75657527300725   \n",
       "1       Mrs. Tina Sharpe  +33 1 17 64 48 43           NL78FPVF2407569857   \n",
       "2            Daan de Wit     02 82 29 37 03           NL58TXTE4754780700   \n",
       "3        Honoré du Gomez      (0161)4960724  FR8832716770788351826539286   \n",
       "4  Adrien-Benoît Clement      +31902 210334                         <NA>   \n",
       "\n",
       "     merchant            category  amount  fraud  \n",
       "0   651065399             transit   20.11      0  \n",
       "1   651065399             transit   30.80      0  \n",
       "2  8176927312             transit   22.63      0  \n",
       "3  8176927312             transit   13.93      0  \n",
       "4   790152891  personal_wellbeing   18.07      0  "
      ]
     },
     "execution_count": 14,
     "metadata": {},
     "output_type": "execute_result"
    }
   ],
   "source": [
    "data.head()"
   ]
  },
  {
   "cell_type": "code",
   "execution_count": 15,
   "id": "ef3e8e53",
   "metadata": {},
   "outputs": [],
   "source": [
    "# fill null value for account type with previously known account type of customer\n",
    "data[\"cust_acc\"] = data.groupby(['customer'])['cust_acc'].transform(lambda x: x.fillna(x.mode()[0] if not x.mode().empty    \n",
    "                                                                                                             else \"Empty\"))"
   ]
  },
  {
   "cell_type": "markdown",
   "id": "0fbd5881",
   "metadata": {},
   "source": [
    "We will drop the name and phone columns with the assumption that they do not provide any additional information than already available in the customer identifier. Also, from the cust_acc column we can extract the country using the first 2 characters and drop the columns."
   ]
  },
  {
   "cell_type": "code",
   "execution_count": 16,
   "id": "01b67b1f",
   "metadata": {},
   "outputs": [
    {
     "data": {
      "text/plain": [
       "(475714, 11)"
      ]
     },
     "execution_count": 16,
     "metadata": {},
     "output_type": "execute_result"
    }
   ],
   "source": [
    "# create country variable and drop unnecessary columns\n",
    "data['country'] = data['cust_acc'].apply(lambda x: x[0:2])\n",
    "data.drop(['name', 'phone', 'cust_acc'], axis=1, inplace=True)\n",
    "data.shape"
   ]
  },
  {
   "cell_type": "markdown",
   "id": "e45831a5",
   "metadata": {},
   "source": [
    "For exploratory analysis, we can use the data which has the date column filled in. Let's create a separate dataframe for it."
   ]
  },
  {
   "cell_type": "code",
   "execution_count": 17,
   "id": "26938108",
   "metadata": {},
   "outputs": [],
   "source": [
    "#data_df = data.loc[data['chck_date'].notna()]\n",
    "#df_explore = data_df.copy()\n",
    "df_explore = data.loc[data['chck_date'].notna()]\n",
    "target = df_explore['amount']\n",
    "mean = target.mean()\n",
    "sd = target.std()\n",
    "selected_df = df_explore[(target > mean - 3*sd) & (target < mean + 3*sd)]"
   ]
  },
  {
   "cell_type": "code",
   "execution_count": 18,
   "id": "3623a3f7",
   "metadata": {},
   "outputs": [
    {
     "data": {
      "image/png": "[encoded data removed]",
      "text/plain": [
       "<Figure size 864x576 with 1 Axes>"
      ]
     },
     "metadata": {},
     "output_type": "display_data"
    }
   ],
   "source": [
    "### amount box plot\n",
    "ax = sns.boxplot(y='amount', x='fraud',  palette=['b', 'r'], data=selected_df)\n",
    "ax.set_title(\"fraud transactions versus amount\", fontsize=14)\n",
    "\n",
    "# sets the figure size in inches\n",
    "ax.figure.set_size_inches(12, 8)\n",
    "\n",
    "# adjusts the width spaces between plots\n",
    "plt.subplots_adjust(wspace = 0.4)"
   ]
  },
  {
   "cell_type": "markdown",
   "id": "1fd268c1",
   "metadata": {},
   "source": [
    "After removing outliers we can see that the median value of fraud transactions is higher than non-fraud transactions. Let's look at fraud vs payment_type, country and category."
   ]
  },
  {
   "cell_type": "code",
   "execution_count": 19,
   "id": "904754f5",
   "metadata": {},
   "outputs": [
    {
     "data": {
      "text/html": [
       "<div>\n",
       "<style scoped>\n",
       "    .dataframe tbody tr th:only-of-type {\n",
       "        vertical-align: middle;\n",
       "    }\n",
       "\n",
       "    .dataframe tbody tr th {\n",
       "        vertical-align: top;\n",
       "    }\n",
       "\n",
       "    .dataframe thead th {\n",
       "        text-align: right;\n",
       "    }\n",
       "</style>\n",
       "<table border=\"1\" class=\"dataframe\">\n",
       "  <thead>\n",
       "    <tr style=\"text-align: right;\">\n",
       "      <th></th>\n",
       "      <th>country</th>\n",
       "      <th>num_transactions</th>\n",
       "      <th>fraud</th>\n",
       "      <th>fraud_percentage</th>\n",
       "    </tr>\n",
       "  </thead>\n",
       "  <tbody>\n",
       "    <tr>\n",
       "      <th>3</th>\n",
       "      <td>NL</td>\n",
       "      <td>89983</td>\n",
       "      <td>934</td>\n",
       "      <td>1.037974</td>\n",
       "    </tr>\n",
       "    <tr>\n",
       "      <th>0</th>\n",
       "      <td>DE</td>\n",
       "      <td>94289</td>\n",
       "      <td>1100</td>\n",
       "      <td>1.166626</td>\n",
       "    </tr>\n",
       "    <tr>\n",
       "      <th>1</th>\n",
       "      <td>FR</td>\n",
       "      <td>89485</td>\n",
       "      <td>1108</td>\n",
       "      <td>1.238196</td>\n",
       "    </tr>\n",
       "    <tr>\n",
       "      <th>2</th>\n",
       "      <td>GB</td>\n",
       "      <td>87385</td>\n",
       "      <td>1272</td>\n",
       "      <td>1.455627</td>\n",
       "    </tr>\n",
       "  </tbody>\n",
       "</table>\n",
       "</div>"
      ],
      "text/plain": [
       "  country  num_transactions  fraud  fraud_percentage\n",
       "3      NL             89983    934          1.037974\n",
       "0      DE             94289   1100          1.166626\n",
       "1      FR             89485   1108          1.238196\n",
       "2      GB             87385   1272          1.455627"
      ]
     },
     "execution_count": 19,
     "metadata": {},
     "output_type": "execute_result"
    }
   ],
   "source": [
    "df_agg_country = df_explore.groupby(\n",
    "   ['country']\n",
    ").agg({   \n",
    "         'transaction_id' : 'count',\n",
    "         'fraud' : 'sum'    \n",
    "}).reset_index()\n",
    "df_agg_country.rename(columns={'transaction_id' : 'num_transactions'}, inplace=True)\n",
    "df_agg_country['fraud_percentage'] = df_agg_country['fraud']*100.0/ df_agg_country['num_transactions']\n",
    "df_agg_country.sort_values(by='fraud_percentage', inplace=True)\n",
    "df_agg_country.head()"
   ]
  },
  {
   "cell_type": "code",
   "execution_count": 20,
   "id": "1fb9c6f1",
   "metadata": {},
   "outputs": [
    {
     "data": {
      "image/png": "[encoded data removed]",
      "text/plain": [
       "<Figure size 864x576 with 1 Axes>"
      ]
     },
     "metadata": {},
     "output_type": "display_data"
    }
   ],
   "source": [
    "# plots fraud percentage by country;\n",
    "ax = sns.histplot(\n",
    "    df_agg_country,\n",
    "    x='country',\n",
    "    weights='fraud_percentage',\n",
    "    shrink=0.8\n",
    ")\n",
    "\n",
    "# sets the figure size in inches\n",
    "ax.figure.set_size_inches(12, 8)\n",
    "\n",
    "# set plot features\n",
    "ax.set_title(\"fraud percentage by country\", fontsize=16)\n",
    "ax.set_ylabel(\"fraud percent\", fontsize=14)\n",
    "ax.set_xlabel(\"country\", fontsize=14)\n",
    "\n",
    "# displays plot\n",
    "show_values(ax)"
   ]
  },
  {
   "cell_type": "markdown",
   "id": "5a52df70",
   "metadata": {},
   "source": [
    "GB has a slightly larger percentage of fraud transactions but it does not seem like fraud rates change much per country."
   ]
  },
  {
   "cell_type": "code",
   "execution_count": 21,
   "id": "70482c88",
   "metadata": {},
   "outputs": [
    {
     "data": {
      "text/html": [
       "<div>\n",
       "<style scoped>\n",
       "    .dataframe tbody tr th:only-of-type {\n",
       "        vertical-align: middle;\n",
       "    }\n",
       "\n",
       "    .dataframe tbody tr th {\n",
       "        vertical-align: top;\n",
       "    }\n",
       "\n",
       "    .dataframe thead th {\n",
       "        text-align: right;\n",
       "    }\n",
       "</style>\n",
       "<table border=\"1\" class=\"dataframe\">\n",
       "  <thead>\n",
       "    <tr style=\"text-align: right;\">\n",
       "      <th></th>\n",
       "      <th>payment_type</th>\n",
       "      <th>num_transactions</th>\n",
       "      <th>fraud</th>\n",
       "      <th>fraud_percentage</th>\n",
       "    </tr>\n",
       "  </thead>\n",
       "  <tbody>\n",
       "    <tr>\n",
       "      <th>7</th>\n",
       "      <td>U</td>\n",
       "      <td>745</td>\n",
       "      <td>1</td>\n",
       "      <td>0.134228</td>\n",
       "    </tr>\n",
       "    <tr>\n",
       "      <th>6</th>\n",
       "      <td>6</td>\n",
       "      <td>16196</td>\n",
       "      <td>164</td>\n",
       "      <td>1.012596</td>\n",
       "    </tr>\n",
       "    <tr>\n",
       "      <th>5</th>\n",
       "      <td>5</td>\n",
       "      <td>38160</td>\n",
       "      <td>417</td>\n",
       "      <td>1.092767</td>\n",
       "    </tr>\n",
       "    <tr>\n",
       "      <th>1</th>\n",
       "      <td>1</td>\n",
       "      <td>35420</td>\n",
       "      <td>409</td>\n",
       "      <td>1.154715</td>\n",
       "    </tr>\n",
       "    <tr>\n",
       "      <th>3</th>\n",
       "      <td>3</td>\n",
       "      <td>89189</td>\n",
       "      <td>1077</td>\n",
       "      <td>1.207548</td>\n",
       "    </tr>\n",
       "  </tbody>\n",
       "</table>\n",
       "</div>"
      ],
      "text/plain": [
       "  payment_type  num_transactions  fraud  fraud_percentage\n",
       "7            U               745      1          0.134228\n",
       "6            6             16196    164          1.012596\n",
       "5            5             38160    417          1.092767\n",
       "1            1             35420    409          1.154715\n",
       "3            3             89189   1077          1.207548"
      ]
     },
     "execution_count": 21,
     "metadata": {},
     "output_type": "execute_result"
    }
   ],
   "source": [
    "df_agg_payment = df_explore.groupby(\n",
    "   ['payment_type']\n",
    ").agg({   \n",
    "         'transaction_id' : 'count',\n",
    "         'fraud' : 'sum'    \n",
    "}).reset_index()\n",
    "df_agg_payment.rename(columns={'transaction_id' : 'num_transactions'}, inplace=True)\n",
    "df_agg_payment['fraud_percentage'] = df_agg_payment['fraud']*100.0/ df_agg_payment['num_transactions']\n",
    "df_agg_payment.sort_values(by='fraud_percentage', inplace=True)\n",
    "df_agg_payment.head()"
   ]
  },
  {
   "cell_type": "code",
   "execution_count": 22,
   "id": "c0f49376",
   "metadata": {},
   "outputs": [
    {
     "data": {
      "image/png": "[encoded data removed]",
      "text/plain": [
       "<Figure size 864x576 with 1 Axes>"
      ]
     },
     "metadata": {},
     "output_type": "display_data"
    }
   ],
   "source": [
    "# plots fraud percentage by payment type;\n",
    "ax = sns.histplot(\n",
    "    df_agg_payment,\n",
    "    x='payment_type',\n",
    "    weights='fraud_percentage',\n",
    "    shrink=0.8\n",
    ")\n",
    "\n",
    "# sets the figure size in inches\n",
    "ax.figure.set_size_inches(12, 8)\n",
    "\n",
    "# set plot features\n",
    "ax.set_title(\"fraud percentage by payment type\", fontsize=16)\n",
    "ax.set_ylabel(\"fraud percent\", fontsize=14)\n",
    "ax.set_xlabel(\"payment type\", fontsize=14)\n",
    "\n",
    "# displays plot\n",
    "show_values(ax)"
   ]
  },
  {
   "cell_type": "markdown",
   "id": "b282fc7f",
   "metadata": {},
   "source": [
    "Payment type 0 (maybe credit card) has the largest percentage of fraud."
   ]
  },
  {
   "cell_type": "code",
   "execution_count": 23,
   "id": "042e4ebc",
   "metadata": {},
   "outputs": [
    {
     "data": {
      "text/html": [
       "<div>\n",
       "<style scoped>\n",
       "    .dataframe tbody tr th:only-of-type {\n",
       "        vertical-align: middle;\n",
       "    }\n",
       "\n",
       "    .dataframe tbody tr th {\n",
       "        vertical-align: top;\n",
       "    }\n",
       "\n",
       "    .dataframe thead th {\n",
       "        text-align: right;\n",
       "    }\n",
       "</style>\n",
       "<table border=\"1\" class=\"dataframe\">\n",
       "  <thead>\n",
       "    <tr style=\"text-align: right;\">\n",
       "      <th></th>\n",
       "      <th>category</th>\n",
       "      <th>num_transactions</th>\n",
       "      <th>fraud</th>\n",
       "      <th>fraud_percentage</th>\n",
       "    </tr>\n",
       "  </thead>\n",
       "  <tbody>\n",
       "    <tr>\n",
       "      <th>2</th>\n",
       "      <td>food</td>\n",
       "      <td>16005</td>\n",
       "      <td>0</td>\n",
       "      <td>0.000000</td>\n",
       "    </tr>\n",
       "    <tr>\n",
       "      <th>1</th>\n",
       "      <td>clothes</td>\n",
       "      <td>3968</td>\n",
       "      <td>67</td>\n",
       "      <td>0.074873</td>\n",
       "    </tr>\n",
       "    <tr>\n",
       "      <th>3</th>\n",
       "      <td>horeca</td>\n",
       "      <td>3924</td>\n",
       "      <td>75</td>\n",
       "      <td>0.083349</td>\n",
       "    </tr>\n",
       "    <tr>\n",
       "      <th>0</th>\n",
       "      <td>accommodation</td>\n",
       "      <td>1083</td>\n",
       "      <td>338</td>\n",
       "      <td>0.358472</td>\n",
       "    </tr>\n",
       "    <tr>\n",
       "      <th>4</th>\n",
       "      <td>house</td>\n",
       "      <td>1206</td>\n",
       "      <td>188</td>\n",
       "      <td>NaN</td>\n",
       "    </tr>\n",
       "  </tbody>\n",
       "</table>\n",
       "</div>"
      ],
      "text/plain": [
       "        category  num_transactions  fraud  fraud_percentage\n",
       "2           food             16005      0          0.000000\n",
       "1        clothes              3968     67          0.074873\n",
       "3         horeca              3924     75          0.083349\n",
       "0  accommodation              1083    338          0.358472\n",
       "4          house              1206    188               NaN"
      ]
     },
     "execution_count": 23,
     "metadata": {},
     "output_type": "execute_result"
    }
   ],
   "source": [
    "df_agg_category = df_explore.groupby(\n",
    "   ['category']\n",
    ").agg({   \n",
    "         'transaction_id' : 'count',\n",
    "         'fraud' : 'sum'    \n",
    "}).reset_index()\n",
    "df_agg_category.rename(columns={'transaction_id' : 'num_transactions'}, inplace=True)\n",
    "df_agg_category['fraud_percentage'] = df_agg_category['fraud']*100.0/ df_agg_country['num_transactions']\n",
    "df_agg_category.sort_values(by='fraud_percentage', inplace=True)\n",
    "df_agg_category.head()"
   ]
  },
  {
   "cell_type": "code",
   "execution_count": 24,
   "id": "bf1524f6",
   "metadata": {},
   "outputs": [
    {
     "data": {
      "image/png": "[encoded data removed]",
      "text/plain": [
       "<Figure size 864x576 with 1 Axes>"
      ]
     },
     "metadata": {},
     "output_type": "display_data"
    }
   ],
   "source": [
    "# plots fraud percentage by category;\n",
    "ax = sns.histplot(\n",
    "    df_agg_category,\n",
    "    x='category',\n",
    "    weights='fraud_percentage',\n",
    "    shrink=0.8\n",
    ")\n",
    "\n",
    "# sets the figure size in inches\n",
    "ax.figure.set_size_inches(12, 8)\n",
    "\n",
    "# set plot features\n",
    "ax.set_title(\"fraud percentage by category\", fontsize=16)\n",
    "ax.set_ylabel(\"fraud percent\", fontsize=14)\n",
    "ax.set_xlabel(\"category\", fontsize=14)\n",
    "\n",
    "# displays plot\n",
    "show_values(ax)"
   ]
  },
  {
   "cell_type": "markdown",
   "id": "fc2c0e07",
   "metadata": {},
   "source": [
    "Looks like accomomdation category has the largest fraud rate. Could be because people book hotels online using stolen accounts.  \n",
    "Let's look at a time series graph of fraud."
   ]
  },
  {
   "cell_type": "code",
   "execution_count": 25,
   "id": "ac6f39c6",
   "metadata": {},
   "outputs": [
    {
     "data": {
      "text/plain": [
       "Text(0.5, 1.0, 'total number of fraud cases by month in 2019')"
      ]
     },
     "execution_count": 25,
     "metadata": {},
     "output_type": "execute_result"
    },
    {
     "data": {
      "image/png": "[encoded data removed]",
      "text/plain": [
       "<Figure size 864x576 with 1 Axes>"
      ]
     },
     "metadata": {},
     "output_type": "display_data"
    }
   ],
   "source": [
    "df_explore['month'] = df_explore['chck_date'].dt.to_period('M').dt.to_timestamp()\n",
    "df_agg_month = df_explore.groupby(\n",
    "   ['month']\n",
    ").agg({   \n",
    "         'fraud' : 'sum'    \n",
    "}).reset_index()\n",
    "df_agg_month.drop(df_agg_month.tail(1).index,inplace=True) \n",
    "df_agg_month.rename(columns={'fraud' : 'num_fraud_transactions'}, inplace=True)\n",
    "# set figure size\n",
    "plt.figure( figsize = ( 12, 8))\n",
    "  \n",
    "# plot a simple time series plot\n",
    "# using seaborn.lineplot()\n",
    "ax=sns.lineplot( x = 'month',\n",
    "             y = 'num_fraud_transactions',\n",
    "             data = df_agg_month)\n",
    "ax.set(ylim=(200, 400))\n",
    "ax.set_title(\"total number of fraud cases by month in 2019\")"
   ]
  },
  {
   "cell_type": "markdown",
   "id": "896925d1",
   "metadata": {},
   "source": [
    "Total fraud cases are setady over month to montm."
   ]
  },
  {
   "cell_type": "markdown",
   "id": "ca351d6f",
   "metadata": {},
   "source": []
  },
  {
   "cell_type": "markdown",
   "id": "5c7ac461",
   "metadata": {},
   "source": [
    "## Feature engineering:"
   ]
  },
  {
   "cell_type": "markdown",
   "id": "8ced7191",
   "metadata": {},
   "source": [
    "Assumptions:  \n",
    "\n",
    "The dataset there are for fraud only contains the essential features that characterize a payment transaction. These are: a unique identifier for the transaction, the date and time of the transaction, the transaction amount, a unique identifier for the customer, a unique number for the merchant, and a binary variable that labels the transaction as legitimate or fraudulent.\n",
    "\n",
    "Based on my interpretation of the dataset given, I have assumed that chck_date is the transaction date. It is possible that it could also mean something else like the date on which a manual checker evaluated the transaction for fraud. Also, in a real-life scenario it is important to have the transaction date to create features (described later in this notebook) that are important for fraud detection.  \n",
    "\n",
    "Also, around 25% of the transactions do not have a chck _date. There are 2 ways to deal with this:  \n",
    "    1. Ignore the transactions with no chck_date for the purposed of this exercise. Based on my approach of creating features for customer recency and merchant risk, I would have to generate random dates and assume that those are the transaction dates.  \n",
    "    2. Treat the null chck_date data as test set with randomly generated dates as to fill the chck_date column. This complicates things as in a real life situation before modeling, I would ensure as far as possible that the transaction date is available.\n",
    "    \n",
    " I will chose option for in the interest of time and for the reasons describved above.  \n",
    "    "
   ]
  },
  {
   "cell_type": "markdown",
   "id": "96787e81",
   "metadata": {},
   "source": [
    "In this dataset, I will implement 4 types of features, i.e.  \n",
    "1. time related features  \n",
    "2. customer transaction behavior  \n",
    "3. merchant risk  \n",
    "4. categorical features based on sex, country and payment type  "
   ]
  },
  {
   "cell_type": "code",
   "execution_count": 26,
   "id": "be33a895",
   "metadata": {},
   "outputs": [
    {
     "data": {
      "text/html": [
       "<div>\n",
       "<style scoped>\n",
       "    .dataframe tbody tr th:only-of-type {\n",
       "        vertical-align: middle;\n",
       "    }\n",
       "\n",
       "    .dataframe tbody tr th {\n",
       "        vertical-align: top;\n",
       "    }\n",
       "\n",
       "    .dataframe thead th {\n",
       "        text-align: right;\n",
       "    }\n",
       "</style>\n",
       "<table border=\"1\" class=\"dataframe\">\n",
       "  <thead>\n",
       "    <tr style=\"text-align: right;\">\n",
       "      <th></th>\n",
       "      <th>transaction_id</th>\n",
       "      <th>batch</th>\n",
       "      <th>chck_date</th>\n",
       "      <th>customer</th>\n",
       "      <th>payment_type</th>\n",
       "      <th>gender</th>\n",
       "      <th>merchant</th>\n",
       "      <th>category</th>\n",
       "      <th>amount</th>\n",
       "      <th>fraud</th>\n",
       "      <th>country</th>\n",
       "    </tr>\n",
       "  </thead>\n",
       "  <tbody>\n",
       "    <tr>\n",
       "      <th>3</th>\n",
       "      <td>252747</td>\n",
       "      <td>172</td>\n",
       "      <td>2019-03-10 02:22:00</td>\n",
       "      <td>8577606384</td>\n",
       "      <td>2</td>\n",
       "      <td>M</td>\n",
       "      <td>8176927312</td>\n",
       "      <td>transit</td>\n",
       "      <td>13.93</td>\n",
       "      <td>0</td>\n",
       "      <td>FR</td>\n",
       "    </tr>\n",
       "    <tr>\n",
       "      <th>5</th>\n",
       "      <td>169054</td>\n",
       "      <td>150</td>\n",
       "      <td>2019-09-16 13:58:00</td>\n",
       "      <td>179543699</td>\n",
       "      <td>3</td>\n",
       "      <td>M</td>\n",
       "      <td>14024986</td>\n",
       "      <td>food</td>\n",
       "      <td>83.76</td>\n",
       "      <td>0</td>\n",
       "      <td>NL</td>\n",
       "    </tr>\n",
       "    <tr>\n",
       "      <th>6</th>\n",
       "      <td>472320</td>\n",
       "      <td>114</td>\n",
       "      <td>2019-01-04 22:42:00</td>\n",
       "      <td>649373938</td>\n",
       "      <td>3</td>\n",
       "      <td>F</td>\n",
       "      <td>651065399</td>\n",
       "      <td>transit</td>\n",
       "      <td>32.51</td>\n",
       "      <td>0</td>\n",
       "      <td>DE</td>\n",
       "    </tr>\n",
       "    <tr>\n",
       "      <th>7</th>\n",
       "      <td>101476</td>\n",
       "      <td>32</td>\n",
       "      <td>2019-12-12 09:32:00</td>\n",
       "      <td>12537556</td>\n",
       "      <td>1</td>\n",
       "      <td>M</td>\n",
       "      <td>651065399</td>\n",
       "      <td>transit</td>\n",
       "      <td>48.05</td>\n",
       "      <td>0</td>\n",
       "      <td>GB</td>\n",
       "    </tr>\n",
       "    <tr>\n",
       "      <th>8</th>\n",
       "      <td>563904</td>\n",
       "      <td>41</td>\n",
       "      <td>2019-05-04 03:00:00</td>\n",
       "      <td>8284860</td>\n",
       "      <td>4</td>\n",
       "      <td>M</td>\n",
       "      <td>651065399</td>\n",
       "      <td>transit</td>\n",
       "      <td>20.47</td>\n",
       "      <td>0</td>\n",
       "      <td>DE</td>\n",
       "    </tr>\n",
       "  </tbody>\n",
       "</table>\n",
       "</div>"
      ],
      "text/plain": [
       "   transaction_id  batch           chck_date    customer payment_type gender  \\\n",
       "3          252747    172 2019-03-10 02:22:00  8577606384            2      M   \n",
       "5          169054    150 2019-09-16 13:58:00   179543699            3      M   \n",
       "6          472320    114 2019-01-04 22:42:00   649373938            3      F   \n",
       "7          101476     32 2019-12-12 09:32:00    12537556            1      M   \n",
       "8          563904     41 2019-05-04 03:00:00     8284860            4      M   \n",
       "\n",
       "     merchant category  amount  fraud country  \n",
       "3  8176927312  transit   13.93      0      FR  \n",
       "5    14024986     food   83.76      0      NL  \n",
       "6   651065399  transit   32.51      0      DE  \n",
       "7   651065399  transit   48.05      0      GB  \n",
       "8   651065399  transit   20.47      0      DE  "
      ]
     },
     "execution_count": 26,
     "metadata": {},
     "output_type": "execute_result"
    }
   ],
   "source": [
    "data_df = data.loc[data['chck_date'].notna()]\n",
    "data_df.head()"
   ]
  },
  {
   "cell_type": "markdown",
   "id": "158bbf0f",
   "metadata": {},
   "source": [
    "**1. Time and date features**  \n",
    "\n",
    "(i). weekend features: create a feature indicating if the day of transaction is weekday or weekend  \n",
    "(ii). night/day feature: indicates if transacton occured at night or day  "
   ]
  },
  {
   "cell_type": "code",
   "execution_count": 27,
   "id": "1e6f4633",
   "metadata": {},
   "outputs": [],
   "source": [
    "data_df['is_weekend']=data_df.chck_date.apply(is_weekend)"
   ]
  },
  {
   "cell_type": "code",
   "execution_count": 28,
   "id": "d6a1289c",
   "metadata": {},
   "outputs": [],
   "source": [
    "data_df['is_night']=data_df.chck_date.apply(is_night)"
   ]
  },
  {
   "cell_type": "markdown",
   "id": "aa30b37f",
   "metadata": {},
   "source": [
    "**2. Customer spending features**  \n",
    "\n",
    "For customer realted features we will define the following:  \n",
    "1. number of transactions that occur within a time window  \n",
    "2. The second will be the average amount spent in these transactions  \n",
    "\n",
    "The time windows will be set to one, seven, and thirty days. This will generate six new features. Note that these time windows could later be optimized along with the models using a model selection procedure. Also, since we assume that every transaction (fraud or not) during prediction will have a timestamp and we will have the amount of the transaction, THUS ELIMINATING THE POSSIBILITY OF DATA LEAKAGE during prediction."
   ]
  },
  {
   "cell_type": "code",
   "execution_count": 29,
   "id": "1b006ffb",
   "metadata": {},
   "outputs": [],
   "source": [
    "data_df=data_df.groupby('customer').apply(lambda x: get_customer_rfm_features(x, windows_size_in_days=[1,7, 30]))\n",
    "data_df=data_df.sort_values('chck_date').reset_index(drop=True)"
   ]
  },
  {
   "cell_type": "markdown",
   "id": "b231b772",
   "metadata": {},
   "source": [
    "**3. Merchant risk features**  \n",
    "\n",
    "Here we extract a risk score, that assesses the exposure of a given terminal ID to fraudulent transactions. The risk score will be defined as the average number of fraudulent transactions that occurred on a terminal ID over a time window. As for customer ID transformations, we will use three window sizes, of 1, 7, and 30 days.\n",
    "\n",
    "Contrary to customer ID transformations, the time windows will not directly precede a given transaction. Instead, they will be shifted back by a delay period. The delay period accounts for the fact that, in practice, the fraudulent transactions are only discovered after a fraud investigation or a customer complaint. Hence, the fraudulent labels, which are needed to compute the risk score, are only available after this delay period.For the purpose of this exercise, this delay period will be set to one week. As stated in the previous section, we assume that the timestamps of the transactions will be available during prediction, thus preventing DATA LEAKAGE."
   ]
  },
  {
   "cell_type": "code",
   "execution_count": 30,
   "id": "2398e532",
   "metadata": {},
   "outputs": [],
   "source": [
    "data_df=data_df.groupby('merchant').apply(lambda x: get_count_risk_rolling_window(x, delay_period=7, windows_size_in_days=[1,7, 30], feature=\"merchant\"))\n",
    "data_df=data_df.sort_values('chck_date').reset_index(drop=True)"
   ]
  },
  {
   "cell_type": "markdown",
   "id": "eee0e767",
   "metadata": {},
   "source": [
    "**4. Categorical features**\n",
    "\n",
    "The following categorical columns will be label encoded:  \n",
    "1. payment_type  \n",
    "2. gender  \n",
    "3. country  \n",
    "4. category  \n"
   ]
  },
  {
   "cell_type": "code",
   "execution_count": 31,
   "id": "ff475a80",
   "metadata": {},
   "outputs": [],
   "source": [
    "data_df = transform_cat_feats(data_df)"
   ]
  },
  {
   "cell_type": "markdown",
   "id": "60859cf3",
   "metadata": {},
   "source": [
    "## Modeling and results  \n",
    "\n",
    "The modeling process consists of 3 parts  \n",
    "1. test/train split  \n",
    "2. dealing with class imbalance  \n",
    "3. grid search cv  "
   ]
  },
  {
   "cell_type": "code",
   "execution_count": 32,
   "id": "c4636dee",
   "metadata": {},
   "outputs": [
    {
     "data": {
      "text/plain": [
       "0    356728\n",
       "1      4414\n",
       "Name: fraud, dtype: int64"
      ]
     },
     "execution_count": 32,
     "metadata": {},
     "output_type": "execute_result"
    }
   ],
   "source": [
    "# check value counts of target variable\n",
    "data_df.fraud.value_counts()"
   ]
  },
  {
   "cell_type": "markdown",
   "id": "eb1b98b7",
   "metadata": {},
   "source": [
    "Since the fraud detection being positive is the minority class with only 1% of the data, we need to use some techniques to deal with this. Resampling strategies address class imbalance at the data level, by resampling the dataset to reduce the imbalance ratio. The resampling of an imbalanced dataset occurs before the training of the prediction model and can be seen as a data preprocessing step. There are numerous methods for resampling imbalanced datasets, but can be categorized into three main strategies: oversampling, undersampling, and hybrid strategies \n",
    "\n",
    "Oversampling consists in artificially increasing the proportion of samples from the minority class. The most naive approach is random oversampling (ROS), in which samples from the minority class are randomly duplicated. More sophisticated approaches consist in generating synthetic data by interpolating samples from the minority class. Two standard methods based on interpolation are SMOTE (Synthetic Minority Oversampling Technique)  and ADASYN (Adaptive Synthetic Sampling).\n",
    "\n",
    "For this exericse we will use SMOTE, which is party of the imblearn pyhton library.\n"
   ]
  },
  {
   "cell_type": "code",
   "execution_count": 33,
   "id": "a8f9f605",
   "metadata": {},
   "outputs": [],
   "source": [
    "# drop these cols as they are not needed\n",
    "cols_to_drop = ['transaction_id', 'batch', 'customer', 'merchant']\n",
    "data_df.drop(cols_to_drop, inplace=True, axis=1)"
   ]
  },
  {
   "cell_type": "markdown",
   "id": "8c54ac04",
   "metadata": {},
   "source": [
    "**1. Test/train split**  \n",
    "\n",
    "The dataset us split into train, validation and test sets. While this solution is not formulating a time-series solution we will split the data as follows:  \n",
    "\n",
    "1. training set (10 months): Jan 1 2019 to Sept 31 2019  \n",
    "2. validation set (1 month): Oct 1 2019 to Nov 30, 2019\n",
    "3. test set (1 month): Dec 1 2019 to Dec 31 2019  "
   ]
  },
  {
   "cell_type": "code",
   "execution_count": 34,
   "id": "78b8d048",
   "metadata": {},
   "outputs": [],
   "source": [
    "train_start_date = \"2019-01-01\"\n",
    "train_end_date = \"2019-09-30\"\n",
    "val_start_date = \"2019-10-01\"\n",
    "val_end_date = \"2019-11-30\"\n",
    "test_start_date = \"2019-12-01\"\n",
    "test_end_date = \"2019-12-31\""
   ]
  },
  {
   "cell_type": "code",
   "execution_count": 35,
   "id": "96833352",
   "metadata": {},
   "outputs": [],
   "source": [
    "data_df = data_df.reset_index().set_index(\"chck_date\")\n",
    "data_df.drop('index', axis=1, inplace=True)\n",
    "# drop the target variable\n",
    "X = data_df.drop(['fraud'], axis=1)\n",
    "\n",
    "\n",
    "# The inputs need to be scaled\n",
    "scaler = StandardScaler()\n",
    "\n",
    "# the target and training columns are defined as follows\n",
    "label_col = [\"fraud\"]\n",
    "trainCols = data_df.columns[~data_df.columns.isin(label_col)]\n",
    "\n",
    "# split into train and test and scale the training set\n",
    "# also apply oversampling to the training set using smote\n",
    "X_train = data_df.loc[train_start_date:train_end_date][trainCols]\n",
    "y_train = data_df.loc[train_start_date:train_end_date][label_col]\n",
    "X_train = scaler.fit_transform(X_train)\n",
    "sm=SMOTE(random_state=12345)\n",
    "X_sm, y_sm = sm.fit_resample(X_train, y_train)\n",
    "\n"
   ]
  },
  {
   "cell_type": "code",
   "execution_count": 36,
   "id": "6439c347",
   "metadata": {},
   "outputs": [
    {
     "data": {
      "text/plain": [
       "Text(0.5, 1.0, 'Class imbalance in training dataset')"
      ]
     },
     "execution_count": 36,
     "metadata": {},
     "output_type": "execute_result"
    },
    {
     "data": {
      "image/png": "[encoded data removed]",
      "text/plain": [
       "<Figure size 864x576 with 1 Axes>"
      ]
     },
     "metadata": {},
     "output_type": "display_data"
    }
   ],
   "source": [
    "y_train.fraud.value_counts().sort_values(ascending=False).plot(kind = 'bar')\n",
    "plt.title(\"Class imbalance in training dataset\")"
   ]
  },
  {
   "cell_type": "code",
   "execution_count": 42,
   "id": "33e8ce8f",
   "metadata": {},
   "outputs": [],
   "source": [
    "# define and scale validation set\n",
    "# whihc will be used to pick the best algorithm\n",
    "X_val = data_df.loc[val_start_date:val_end_date][trainCols]\n",
    "y_val = data_df.loc[val_start_date:val_end_date][label_col]\n",
    "X_val = scaler.fit_transform(X_val)\n",
    "\n",
    "# define and scale test set\n",
    "# whihc will be used to report the results\n",
    "X_test = data_df.loc[test_start_date:test_end_date][trainCols]\n",
    "y_test = data_df.loc[test_start_date:test_end_date][label_col]\n",
    "X_test = scaler.fit_transform(X_test)"
   ]
  },
  {
   "cell_type": "markdown",
   "id": "3de43505",
   "metadata": {},
   "source": [
    "**2. Grid search CV**  \n",
    "\n",
    "For this exercise we will train 3 models, i.e. one Logistic Regression model and two ensemble models, Random Forest and LightGBM. The choice of metric is also important. In classification problems either precision, recall ot F1 score (harmonic mean of precision and recall) are the most commonly used metrics. The choice of metrics depends upon the business problem. For example in the case of fraud the business model and risk profile plays a big factor in determining the metric to be used for evaluation.\n",
    "\n",
    "If a business's margins are small—for example, if you sell food online—the cost of a fraudulent transaction might need to be offset with hundreds of good transactions—making each false negative very expensive. Businesses with this profile may lean towards casting a wide net when attempting to stop potential fraud. On the other hand, if a business’s margins are high, say for a SaaS business, the reverse is true. The lost revenue from one legitimate blocked customer may outweigh the cost of increased fraud.  \n",
    "\n",
    "To resolver this ambiguity and for the purpose of this exercise,we will chosse F1 score as the metric to optimize for.\n",
    "\n",
    "\n"
   ]
  },
  {
   "cell_type": "code",
   "execution_count": 43,
   "id": "a0383f3d",
   "metadata": {},
   "outputs": [],
   "source": [
    "tuned_parameters = [[{'penalty': ['l1','l2'], 'tol' : [1e-4,1e-5], 'max_iter' : [10,100,1000], 'fit_intercept' : [True, False]}],\n",
    "                    [{'n_estimators':[100],'max_features':[ 'sqrt'],'criterion' : ['entropy'],'max_depth': [100]}],\n",
    "                    [{'loss': ['exponential'],'n_estimators' : [200],'max_features' : ['sqrt'],'max_depth' : [50] }]\n",
    "                    ]"
   ]
  },
  {
   "cell_type": "code",
   "execution_count": 44,
   "id": "441a99d4",
   "metadata": {},
   "outputs": [],
   "source": [
    "algorithms = [LogisticRegression(class_weight='balanced'), RandomForestClassifier(class_weight='balanced'), GradientBoostingClassifier()]\n",
    "algorithm_names = [\"LogisticRegression\",\"RandomForestClassifier\", \"GradientBoostingClassifier\"]"
   ]
  },
  {
   "cell_type": "code",
   "execution_count": 45,
   "id": "e5e46877",
   "metadata": {},
   "outputs": [],
   "source": [
    "# use f1 score \n",
    "f1 = make_scorer(f1_score , average='weighted')"
   ]
  },
  {
   "cell_type": "code",
   "execution_count": 73,
   "id": "d56c3f98",
   "metadata": {},
   "outputs": [
    {
     "name": "stdout",
     "output_type": "stream",
     "text": [
      "1\n",
      "################   RandomForestClassifier   ################\n",
      "# Tuning hyper-parameters for f1\n",
      "\n",
      "Best parameters set found on development set:\n",
      "\n",
      "{'criterion': 'entropy', 'max_depth': 100, 'max_features': 'sqrt', 'n_estimators': 100}\n",
      "training done, model saved to file\n"
     ]
    }
   ],
   "source": [
    "results_list = []\n",
    "for i in range(1, 2):\n",
    "    print (i)\n",
    "    print(\"################   %s   ################\" %algorithm_names[i])\n",
    "    scores = ['f1']\n",
    "\n",
    "    for score in scores:\n",
    "        print(\"# Tuning hyper-parameters for %s\" % score)\n",
    "        print()\n",
    "\n",
    "        clf = GridSearchCV(algorithms[i], tuned_parameters[i], cv=5,\n",
    "                           scoring='%s' % score)\n",
    "        if i == 2:\n",
    "            clf.fit(X_sm, y_sm)\n",
    "        else:\n",
    "            clf.fit(X_train, y_train)\n",
    "\n",
    "        print (\"Best parameters set found on development set:\")\n",
    "        print()\n",
    "        print(clf.best_params_)\n",
    "        joblib.dump(clf, \"../model/notebook_model_test/model_latest_%s.pkl\" %algorithm_names[i])\n",
    "        print (\"training done, model saved to file\")\n",
    "        for thresh in np.linspace(0.1, 0.9, 90):\n",
    "            probs = clf.predict_proba(X_val)\n",
    "            y_true_val, y_pred_val = y_val, (probs [:,1] >= thresh).astype('int')\n",
    "            score_list = [algorithm_names[i], clf.best_params_, \\\n",
    "                      precision_score(y_true_val, y_pred_val), recall_score(y_true_val, y_pred_val), \\\n",
    "                     f1_score(y_true_val, y_pred_val), thresh]\n",
    "            results_list.append(score_list)\n",
    "     \n",
    "        "
   ]
  },
  {
   "cell_type": "code",
   "execution_count": 74,
   "id": "835b10e3",
   "metadata": {},
   "outputs": [],
   "source": [
    "results_df = pd.DataFrame(results_list,\n",
    "                  columns = ['Algorithm' , 'Parameters', 'Precision' , 'Recall', \"F1 score\", \"threshold\"])"
   ]
  },
  {
   "cell_type": "code",
   "execution_count": 85,
   "id": "0dba8cca",
   "metadata": {},
   "outputs": [
    {
     "data": {
      "text/plain": [
       "<bound method IndexOpsMixin.value_counts of 0     {'criterion': 'entropy', 'max_depth': 100, 'ma...\n",
       "1     {'criterion': 'entropy', 'max_depth': 100, 'ma...\n",
       "2     {'criterion': 'entropy', 'max_depth': 100, 'ma...\n",
       "3     {'criterion': 'entropy', 'max_depth': 100, 'ma...\n",
       "4     {'criterion': 'entropy', 'max_depth': 100, 'ma...\n",
       "                            ...                        \n",
       "85    {'criterion': 'entropy', 'max_depth': 100, 'ma...\n",
       "86    {'criterion': 'entropy', 'max_depth': 100, 'ma...\n",
       "87    {'criterion': 'entropy', 'max_depth': 100, 'ma...\n",
       "88    {'criterion': 'entropy', 'max_depth': 100, 'ma...\n",
       "89    {'criterion': 'entropy', 'max_depth': 100, 'ma...\n",
       "Name: Parameters, Length: 90, dtype: object>"
      ]
     },
     "execution_count": 85,
     "metadata": {},
     "output_type": "execute_result"
    }
   ],
   "source": [
    "results_df.Parameters.value_counts"
   ]
  },
  {
   "cell_type": "markdown",
   "id": "2968b08a",
   "metadata": {},
   "source": [
    "From the above dataframe we can see that the RandomForest model perfroms best. Let's use the model on our test set to see how it performs."
   ]
  },
  {
   "cell_type": "code",
   "execution_count": 77,
   "id": "b1f5ee73",
   "metadata": {},
   "outputs": [
    {
     "data": {
      "text/plain": [
       "Text(0.5, 1.0, 'Threshold vs F1 score for Random Forest Classifier')"
      ]
     },
     "execution_count": 77,
     "metadata": {},
     "output_type": "execute_result"
    },
    {
     "data": {
      "image/png": "[encoded data removed]",
      "text/plain": [
       "<Figure size 864x576 with 1 Axes>"
      ]
     },
     "metadata": {},
     "output_type": "display_data"
    }
   ],
   "source": [
    "plt.figure(figsize=(12, 8))\n",
    "sns.lineplot(data=results_df, x=\"threshold\", y=\"F1 score\")\n",
    "plt.title(\"Threshold vs F1 score for Random Forest Classifier\")"
   ]
  },
  {
   "cell_type": "code",
   "execution_count": 87,
   "id": "06291d5e",
   "metadata": {},
   "outputs": [
    {
     "name": "stderr",
     "output_type": "stream",
     "text": [
      "No artists with labels found to put in legend.  Note that artists whose label start with an underscore are ignored when legend() is called with no argument.\n"
     ]
    },
    {
     "data": {
      "image/png": "[encoded data removed]",
      "text/plain": [
       "<Figure size 864x576 with 1 Axes>"
      ]
     },
     "metadata": {},
     "output_type": "display_data"
    }
   ],
   "source": [
    "from matplotlib import pyplot\n",
    "from sklearn.metrics import precision_recall_curve\n",
    "yhat = model.predict_proba(X_val)\n",
    "# retrieve just the probabilities for the positive class\n",
    "pos_probs = yhat[:, 1]\n",
    "# calculate the no skill line as the proportion of the positive class\n",
    "# calculate model precision-recall curve\n",
    "precision, recall, misc= precision_recall_curve(y_val, pos_probs)\n",
    "# plot the model precision-recall curve\n",
    "pyplot.plot(recall, precision)\n",
    "# axis labels\n",
    "pyplot.title('Precison Recall curve for Random Forest')\n",
    "pyplot.xlabel('Recall')\n",
    "pyplot.ylabel('Precision')\n",
    "# show the legend\n",
    "pyplot.legend()\n",
    "# show the plot\n",
    "pyplot.show()"
   ]
  },
  {
   "cell_type": "markdown",
   "id": "1d99c501",
   "metadata": {},
   "source": [
    "## Results"
   ]
  },
  {
   "cell_type": "code",
   "execution_count": 78,
   "id": "d6ae366f",
   "metadata": {},
   "outputs": [],
   "source": [
    "# Let's read the RandomForest model\n",
    "# read saved model\n",
    "model = joblib.load(\"../model/notebook_model_test/model_latest_RandomForestClassifier.pkl\")"
   ]
  },
  {
   "cell_type": "code",
   "execution_count": 79,
   "id": "b18c9c0b",
   "metadata": {},
   "outputs": [],
   "source": [
    "threshold = 0.4\n",
    "#rf_probs =random_search.best_estimator_.predict_proba(df_output)\n",
    "#rf_predictions = (rf_probs [:,1] >= threshold).astype('int')"
   ]
  },
  {
   "cell_type": "code",
   "execution_count": 80,
   "id": "a1532a9c",
   "metadata": {},
   "outputs": [
    {
     "name": "stdout",
     "output_type": "stream",
     "text": [
      "Scores for RandomForest on test set\n",
      "Precision: 0.81\n",
      "Recall: 0.76\n",
      "F1 score: 0.78\n"
     ]
    }
   ],
   "source": [
    "# Make predictions on test set\n",
    "probs = model.predict_proba(X_val)\n",
    "y_test, y_pred = y_val, (probs [:,1] >= threshold).astype('int')\n",
    "print(\"Scores for RandomForest on test set\")\n",
    "print('Precision: %.2f' % precision_score(y_test, y_pred))\n",
    "print('Recall: %.2f' % recall_score(y_test, y_pred))\n",
    "print('F1 score: %.2f' % f1_score(y_test, y_pred))"
   ]
  },
  {
   "cell_type": "code",
   "execution_count": null,
   "id": "42d59405",
   "metadata": {},
   "outputs": [],
   "source": []
  }
 ],
 "metadata": {
  "kernelspec": {
   "display_name": "Python 3 (ipykernel)",
   "language": "python",
   "name": "python3"
  },
  "language_info": {
   "codemirror_mode": {
    "name": "ipython",
    "version": 3
   },
   "file_extension": ".py",
   "mimetype": "text/x-python",
   "name": "python",
   "nbconvert_exporter": "python",
   "pygments_lexer": "ipython3",
   "version": "3.7.3"
  }
 },
 "nbformat": 4,
 "nbformat_minor": 5
}
